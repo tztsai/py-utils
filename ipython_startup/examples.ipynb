{
 "cells": [
  {
   "cell_type": "code",
   "execution_count": 1,
   "id": "7c8acbfd",
   "metadata": {},
   "outputs": [
    {
     "data": {
      "text/latex": [
       "$\\displaystyle \\left(2 a - 3\\right) \\left(a^{2} - 1\\right)$"
      ],
      "text/plain": [
       "(2*a - 3)*(a**2 - 1)"
      ]
     },
     "execution_count": 1,
     "metadata": {},
     "output_type": "execute_result"
    }
   ],
   "source": [
    "(a?**2-1) * (2*a?-3)  # symbol"
   ]
  },
  {
   "cell_type": "code",
   "execution_count": 2,
   "id": "03a00560",
   "metadata": {},
   "outputs": [
    {
     "data": {
      "text/latex": [
       "$\\displaystyle \\left( e^{i \\pi x}, \\  i \\pi e^{i \\pi x}, \\  - \\pi^{2} e^{i \\pi x}, \\  - i \\pi^{3} e^{i \\pi x}\\right)$"
      ],
      "text/plain": [
       "(exp(I*pi*x), I*pi*exp(I*pi*x), -pi**2*exp(I*pi*x), -I*pi**3*exp(I*pi*x))"
      ]
     },
     "execution_count": 2,
     "metadata": {},
     "output_type": "execute_result"
    }
   ],
   "source": [
    "z = ℮^(x?*π*ί)\n",
    "$(z, z′, z′′, z′′′)"
   ]
  },
  {
   "cell_type": "code",
   "execution_count": 3,
   "id": "6095eaf5",
   "metadata": {},
   "outputs": [
    {
     "data": {
      "text/latex": [
       "$\\displaystyle i \\pi y e^{i \\pi x} = - \\pi^{2} e^{i \\pi x}$"
      ],
      "text/plain": [
       "Eq(I*pi*y*exp(I*pi*x), -pi**2*exp(I*pi*x))"
      ]
     },
     "execution_count": 3,
     "metadata": {},
     "output_type": "execute_result"
    }
   ],
   "source": [
    "z′ * y? := z′′ # equation (not evaluated)"
   ]
  },
  {
   "cell_type": "code",
   "execution_count": 4,
   "id": "d786ec25",
   "metadata": {},
   "outputs": [
    {
     "name": "stdout",
     "output_type": "stream",
     "text": [
      "y ∈ ℝ :\n"
     ]
    },
    {
     "data": {
      "text/plain": [
       "None"
      ]
     },
     "metadata": {},
     "output_type": "display_data"
    },
    {
     "name": "stdout",
     "output_type": "stream",
     "text": [
      "y ∈ ℂ :\n"
     ]
    },
    {
     "data": {
      "text/latex": [
       "$\\displaystyle y = i \\pi$"
      ],
      "text/plain": [
       "Eq(y, I*pi)"
      ]
     },
     "metadata": {},
     "output_type": "display_data"
    }
   ],
   "source": [
    "print(\"y ∈ ℝ :\")\n",
    "y? ∈ ℝ\n",
    "z′ * y? = z′′  # solve equation\n",
    "print(\"y ∈ ℂ :\")\n",
    "y? ∈ ℂ\n",
    "z′ * y? = z′′"
   ]
  },
  {
   "cell_type": "code",
   "execution_count": 11,
   "id": "4247f249",
   "metadata": {},
   "outputs": [
    {
     "data": {
      "text/plain": [
       "(x) -> ℮ ** (x * π * ί)"
      ]
     },
     "execution_count": 11,
     "metadata": {},
     "output_type": "execute_result"
    }
   ],
   "source": [
    "f(x) = ℮^(x*π*ί); f"
   ]
  },
  {
   "cell_type": "code",
   "execution_count": 12,
   "id": "8bbbe6ab",
   "metadata": {},
   "outputs": [
    {
     "name": "stdout",
     "output_type": "stream",
     "text": [
      "(x) -> I*pi*exp(I*pi*x)\n"
     ]
    },
    {
     "data": {
      "text/latex": [
       "$\\displaystyle i \\pi e^{\\frac{2 i \\pi}{k}}$"
      ],
      "text/plain": [
       "I*pi*exp(2*I*pi/k)"
      ]
     },
     "execution_count": 12,
     "metadata": {},
     "output_type": "execute_result"
    }
   ],
   "source": [
    "print(f′)\n",
    "f′(2/k?)"
   ]
  },
  {
   "cell_type": "code",
   "execution_count": 13,
   "id": "c991008e",
   "metadata": {},
   "outputs": [
    {
     "data": {
      "text/latex": [
       "$\\displaystyle \\left( e^{i \\pi w \\left(- t + x\\right)}, \\  e^{2 i \\pi \\left(x - 1\\right)}\\right)$"
      ],
      "text/plain": [
       "(exp(I*pi*w*(-t + x)), exp(2*I*pi*(x - 1)))"
      ]
     },
     "execution_count": 13,
     "metadata": {},
     "output_type": "execute_result"
    }
   ],
   "source": [
    "y = f((x?-t?)*w?)\n",
    "$(y, y(t=1,w=2))"
   ]
  },
  {
   "cell_type": "code",
   "execution_count": 14,
   "id": "bedd624f",
   "metadata": {},
   "outputs": [
    {
     "data": {
      "text/latex": [
       "$\\displaystyle - i \\pi w e^{i \\pi w \\left(- t + x\\right)} = i \\pi \\left(- t + x\\right) e^{i \\pi w \\left(- t + x\\right)}$"
      ],
      "text/plain": [
       "Eq(-I*pi*w*exp(I*pi*w*(-t + x)), I*pi*(-t + x)*exp(I*pi*w*(-t + x)))"
      ]
     },
     "execution_count": 14,
     "metadata": {},
     "output_type": "execute_result"
    }
   ],
   "source": [
    "∂t y := ∂w y"
   ]
  },
  {
   "cell_type": "code",
   "execution_count": 15,
   "id": "ff9b2eb6",
   "metadata": {},
   "outputs": [
    {
     "data": {
      "text/latex": [
       "$\\displaystyle \\left( t = \\pi w + x, \\  \\left( t = x, \\  w = 0\\right), \\  \\left( t = x - \\sqrt{\\pi}, \\  w = - \\frac{1}{\\sqrt{\\pi}}\\right), \\  \\left( t = x + \\sqrt{\\pi}, \\  w = \\frac{1}{\\sqrt{\\pi}}\\right)\\right)$"
      ],
      "text/plain": [
       "(Eq(t, pi*w + x), (Eq(t, x), Eq(w, 0)), (Eq(t, x - sqrt(pi)), Eq(w, -1/sqrt(pi))), (Eq(t, x + sqrt(pi)), Eq(w, 1/sqrt(pi))))"
      ]
     },
     "metadata": {},
     "output_type": "display_data"
    }
   ],
   "source": [
    "∂t y = ∂w y / π"
   ]
  },
  {
   "cell_type": "code",
   "execution_count": 16,
   "id": "a942776d",
   "metadata": {},
   "outputs": [
    {
     "data": {
      "text/latex": [
       "$\\displaystyle \\pi^{2} w \\left(- t + x\\right) e^{i \\pi w \\left(- t + x\\right)} - i \\pi e^{i \\pi w \\left(- t + x\\right)}$"
      ],
      "text/plain": [
       "pi**2*w*(-t + x)*exp(I*pi*w*(-t + x)) - I*pi*exp(I*pi*w*(-t + x))"
      ]
     },
     "metadata": {},
     "output_type": "display_data"
    }
   ],
   "source": [
    "display(∂t∂w y)\n",
    "assert ∂t∂w y == ∂w∂t y"
   ]
  },
  {
   "cell_type": "code",
   "execution_count": 17,
   "id": "4d337767",
   "metadata": {},
   "outputs": [
    {
     "data": {
      "text/latex": [
       "$\\displaystyle \\left( \\left( t = 0.0, \\  x = 1.40404753775886, \\  w = -0.652989646585935\\right), \\  \\left( t = 0.0, \\  x = 1.40404753775886, \\  w = 0.652989646585935\\right)\\right)$"
      ],
      "text/plain": [
       "((Eq(t, 0.0), Eq(x, 1.40404753775886), Eq(w, -0.652989646585935)), (Eq(t, 0.0), Eq(x, 1.40404753775886), Eq(w, 0.652989646585935)))"
      ]
     },
     "metadata": {},
     "output_type": "display_data"
    }
   ],
   "source": [
    "[t?, ∂t∂t y + 0.34 * ∂t y + 1.6 * y - 2.7] = [0, 0]"
   ]
  },
  {
   "cell_type": "code",
   "execution_count": 35,
   "id": "37ecc154",
   "metadata": {},
   "outputs": [
    {
     "name": "stdout",
     "output_type": "stream",
     "text": [
      "((x) -> 1 / √x)(2) = sqrt(2)/2\n",
      "((x, y) -> 1 / √(x ** 2 + y ** 2))(2, 3) = sqrt(13)/13\n",
      "((*x) -> (y, z) -> [*x, y, z])(1,2)(z=4, y=3) = [1, 2, 3, 4]\n"
     ]
    }
   ],
   "source": [
    "f = x -> 1/√x; print(f'({f})(2) = {f(2)}')\n",
    "f = (x, y) -> 1/√(x^2+y^2); print(f'({f})(2, 3) = {f(2, 3)}')\n",
    "f = (*x) -> (y, z) -> [*x, y, z]; print(f'({f})(1,2)(z=4, y=3) = {f(1,2)(z=4, y=3)}')"
   ]
  },
  {
   "cell_type": "code",
   "execution_count": 1,
   "id": "14533756",
   "metadata": {},
   "outputs": [
    {
     "name": "stdout",
     "output_type": "stream",
     "text": [
      "MultiDispatch[(x) -> 1 / √(2 * π) * exp(-x ** 2 / 2),\n",
      "              (x, *, μ=0, σ=1) -> 1 / σ * gaussian((x - μ) / σ),\n",
      "              (μ, σ) -> (x) -> gaussian(x, μ=μ, σ=σ)]\n"
     ]
    },
    {
     "data": {
      "text/latex": [
       "$\\displaystyle \\left( \\frac{0.5 \\sqrt{2} e^{- \\frac{\\left(x - μ\\right)^{2}}{2}}}{\\sqrt{\\pi}}, \\  \\frac{\\operatorname{erf}{\\left(\\frac{\\sqrt{2} x}{2} \\right)}}{2}, \\  - \\frac{\\operatorname{erf}{\\left(\\frac{\\sqrt{2}}{2} \\right)}}{2} + \\frac{\\operatorname{erf}{\\left(\\sqrt{2} \\right)}}{2}\\right)$"
      ],
      "text/plain": [
       "(0.5*sqrt(2)*exp(-(x - μ)**2/2)/sqrt(pi), erf(sqrt(2)*x/2)/2, -erf(sqrt(2)/2)/2 + erf(sqrt(2))/2)"
      ]
     },
     "execution_count": 1,
     "metadata": {},
     "output_type": "execute_result"
    }
   ],
   "source": [
    "gaussian = lambda x: 1/√(2*π) * exp(-x^2/2)\n",
    "gaussian(x,*,μ=0,σ=1) = 1/σ * gaussian((x-μ)/σ)\n",
    "gaussian(μ,σ) = x -> gaussian(x,μ=μ,σ=σ)\n",
    "print(gaussian)\n",
    "a = gaussian(x?,μ=μ?,σ=1)\n",
    "b = ∫ gaussian(x?)\n",
    "c = ∫[1:2] gaussian(x?)\n",
    "Tuple(a, b, c)"
   ]
  },
  {
   "cell_type": "code",
   "execution_count": 18,
   "id": "aaf6cf3f",
   "metadata": {},
   "outputs": [
    {
     "data": {
      "text/latex": [
       "$\\displaystyle t = 2.82842712474619 \\operatorname{erfcinv}{\\left(\\frac{1}{10} \\right)}$"
      ],
      "text/plain": [
       "Eq(t, 2.82842712474619*erfcinv(1/10))"
      ]
     },
     "metadata": {},
     "output_type": "display_data"
    },
    {
     "name": "stdout",
     "output_type": "stream",
     "text": [
      "2.82842712474619*erfcinv(1/10)\n"
     ]
    }
   ],
   "source": [
    "pdf = gaussian(0, 2)\n",
    "∫x[:t?]pdf(x?) = 0.95\n",
    "print(ans.t)"
   ]
  },
  {
   "cell_type": "code",
   "execution_count": 19,
   "id": "0bbae1b8",
   "metadata": {},
   "outputs": [
    {
     "data": {
      "text/latex": [
       "$\\displaystyle \\left( \\frac{0.25 \\sqrt{2} e^{- \\frac{t^{2}}{8}}}{\\sqrt{\\pi}}, \\  - \\frac{0.0625 \\sqrt{2} t e^{- \\frac{t^{2}}{8}}}{\\sqrt{\\pi}}\\right)$"
      ],
      "text/plain": [
       "(0.25*sqrt(2)*exp(-t**2/8)/sqrt(pi), -0.0625*sqrt(2)*t*exp(-t**2/8)/sqrt(pi))"
      ]
     },
     "execution_count": 19,
     "metadata": {},
     "output_type": "execute_result"
    }
   ],
   "source": [
    "p(t) = ∫x[:t]pdf(x?)\n",
    "$( p′(t?), p′′(t?) )"
   ]
  },
  {
   "cell_type": "code",
   "execution_count": 114,
   "id": "f8e8b096",
   "metadata": {},
   "outputs": [
    {
     "data": {
      "text/plain": [
       "[[4, 5, 6], [1, 2, 3], [7, 8, 9]]"
      ]
     },
     "execution_count": 114,
     "metadata": {},
     "output_type": "execute_result"
    }
   ],
   "source": [
    "x = [1,2,3;4,5,6;7,8,9]\n",
    "[x.1, x.0, x.-1]"
   ]
  },
  {
   "cell_type": "code",
   "execution_count": 155,
   "id": "dc73e1c6",
   "metadata": {},
   "outputs": [
    {
     "data": {
      "text/latex": [
       "$\\displaystyle \\left[\\begin{matrix}1\\\\2\\\\3\\end{matrix}\\right]$"
      ],
      "text/plain": [
       "Matrix([\n",
       "[1],\n",
       "[2],\n",
       "[3]])"
      ]
     },
     "execution_count": 155,
     "metadata": {},
     "output_type": "execute_result"
    }
   ],
   "source": [
    "$[1..3]"
   ]
  },
  {
   "cell_type": "code",
   "execution_count": 157,
   "id": "862f674d",
   "metadata": {},
   "outputs": [
    {
     "data": {
      "text/latex": [
       "$\\displaystyle \\left[\\begin{matrix}1 & 2 & 3\\\\2 & 3 & 1\\\\3 & 1 & 2\\end{matrix}\\right]$"
      ],
      "text/plain": [
       "Matrix([\n",
       "[1, 2, 3],\n",
       "[2, 3, 1],\n",
       "[3, 1, 2]])"
      ]
     },
     "execution_count": 157,
     "metadata": {},
     "output_type": "execute_result"
    }
   ],
   "source": [
    "$[1,2,3;2,3,1;3,1,2]"
   ]
  },
  {
   "cell_type": "code",
   "execution_count": 20,
   "id": "d90580d6",
   "metadata": {},
   "outputs": [
    {
     "data": {
      "text/latex": [
       "$\\displaystyle \\left( \\left[\\begin{matrix}17 & 7 & 23 & 15 & 3\\\\24 & 5 & 8 & 1 & 18\\\\20 & 2 & 12 & 13 & 11\\\\25 & 9 & 16 & 10 & 4\\\\6 & 22 & 19 & 14 & 21\\end{matrix}\\right], \\  \\left[\\begin{matrix}1101 & 696 & 858 & 1018 & 966\\\\696 & 990 & 797 & 855 & 798\\\\858 & 797 & 838 & 884 & 805\\\\1018 & 855 & 884 & 1078 & 876\\\\966 & 798 & 805 & 876 & 1518\\end{matrix}\\right]\\right)$"
      ],
      "text/plain": [
       "(Matrix([\n",
       "[17,  7, 23, 15,  3],\n",
       "[24,  5,  8,  1, 18],\n",
       "[20,  2, 12, 13, 11],\n",
       "[25,  9, 16, 10,  4],\n",
       "[ 6, 22, 19, 14, 21]]), Matrix([\n",
       "[1101, 696, 858, 1018,  966],\n",
       "[ 696, 990, 797,  855,  798],\n",
       "[ 858, 797, 838,  884,  805],\n",
       "[1018, 855, 884, 1078,  876],\n",
       "[ 966, 798, 805,  876, 1518]]))"
      ]
     },
     "execution_count": 20,
     "metadata": {},
     "output_type": "execute_result"
    }
   ],
   "source": [
    "x = $[random.sample(1..25, 25)].reshape(5, 5)\n",
    "$(x, x @ x.T)"
   ]
  },
  {
   "cell_type": "code",
   "execution_count": 160,
   "id": "deea24b1",
   "metadata": {},
   "outputs": [
    {
     "data": {
      "text/plain": [
       "[7, 13, 2, 11, 5, 23, 3, 19, 17]"
      ]
     },
     "execution_count": 160,
     "metadata": {},
     "output_type": "execute_result"
    }
   ],
   "source": [
    "is_prime(n) = n > 1 and all(n%i for i in 2..int(√n))\n",
    "list(filter(is_prime, x))"
   ]
  },
  {
   "cell_type": "code",
   "execution_count": 118,
   "id": "22659b44",
   "metadata": {},
   "outputs": [
    {
     "data": {
      "text/plain": [
       "(1, 2, 3)"
      ]
     },
     "execution_count": 118,
     "metadata": {},
     "output_type": "execute_result"
    }
   ],
   "source": [
    "env = {x=1, y=2}\n",
    "env.f(x) = x + 1\n",
    "(env.x, env.y, env.f(env.y))"
   ]
  },
  {
   "cell_type": "code",
   "execution_count": null,
   "id": "3be8942c",
   "metadata": {
    "scrolled": false
   },
   "outputs": [],
   "source": [
    "# x.det, x.rank, x.diag"
   ]
  },
  {
   "cell_type": "code",
   "execution_count": null,
   "id": "993bb9d4",
   "metadata": {},
   "outputs": [],
   "source": [
    "# Array.diag2(a) = a[::-1].diag\n",
    "# print(x.diag2())"
   ]
  },
  {
   "cell_type": "code",
   "execution_count": null,
   "id": "2a5ab3eb",
   "metadata": {},
   "outputs": [],
   "source": [
    "# X = Array.random(1000,3,distr='normal',scale=10)\n",
    "# Y = Array.random(3,1000,distr='normal',scale=10)\n",
    "# Z = X @ Y\n",
    "# Z[:,:2].scatter()"
   ]
  },
  {
   "cell_type": "code",
   "execution_count": null,
   "id": "14b002b3",
   "metadata": {},
   "outputs": [],
   "source": [
    "# Z.svd.1[:4]"
   ]
  },
  {
   "cell_type": "code",
   "execution_count": null,
   "id": "aea9df05",
   "metadata": {},
   "outputs": [],
   "source": [
    "# Z.svd.0[:,:2].scatter()"
   ]
  }
 ],
 "metadata": {
  "kernelspec": {
   "display_name": "Python 3",
   "language": "python",
   "name": "python3"
  },
  "language_info": {
   "codemirror_mode": {
    "name": "ipython",
    "version": 3
   },
   "file_extension": ".py",
   "mimetype": "text/x-python",
   "name": "python",
   "nbconvert_exporter": "python",
   "pygments_lexer": "ipython3",
   "version": "3.9.1"
  }
 },
 "nbformat": 4,
 "nbformat_minor": 5
}
